{
 "cells": [
  {
   "cell_type": "markdown",
   "id": "fa496f53-b88e-47b5-839d-c8a2760ea4ca",
   "metadata": {
    "jp-MarkdownHeadingCollapsed": true
   },
   "source": [
    "## Machine Learning Notebook"
   ]
  },
  {
   "cell_type": "markdown",
   "id": "178ea415-38e8-433d-ae7d-6b6b2183a66d",
   "metadata": {},
   "source": [
    "### Day #1"
   ]
  },
  {
   "cell_type": "markdown",
   "id": "b18bf340-30b9-4171-a62f-67ba95e90d2a",
   "metadata": {},
   "source": [
    "1.  **Supervised Learning** <br>\n",
    "    Learns from data labled with right answer.\n",
    "    \n",
    "    The two major types of supervised learning our regression and classification.\n",
    "    \n",
    "    **Regression**\n",
    "    - Predicts a number.\n",
    "    - Has infinite outputs.\n",
    "     \n",
    "     <br>\n",
    "    \n",
    "    **Classification**\n",
    "    - Predicts categories.\n",
    "    - Has small number of outputs. <br>\n",
    "    <br>\n",
    "3.  **Unsupervised Learning** <br>\n",
    "    Finds something interesting in unlabled data.\n",
    "    \n",
    "    An unsupervised learning algorithm, might decide that the data can be assigned to two different groups or two different clusters. This is a particular type of unsupervised learning, called a **clustering** algorithm.\n",
    "\n",
    "\n",
    "    <div class=\"alert alert-block alert-info\"> <b>Note:</b> Whereas in supervised learning, the data comes with both inputs x and input labels y, in unsupervised learning, the data comes only with inputs x but not output labels y. </div>"
   ]
  },
  {
   "cell_type": "markdown",
   "id": "e84a16fe-aaa4-4627-a231-62dc073bfebe",
   "metadata": {
    "jp-MarkdownHeadingCollapsed": true
   },
   "source": [
    "### Day #2"
   ]
  },
  {
   "cell_type": "markdown",
   "id": "03528b2d-5185-4c0e-895e-e2f7e9778f30",
   "metadata": {},
   "source": [
    "**Regression Model** <br>\n",
    "Let us make our own model similar to the one given in the course.\n",
    "\n",
    "1.  **Data Table** <br>\n",
    "   The data comprises a set of inputs and outputs. This data is also called a training set. <br>\n",
    "   **Notation:** Input variables are also called x or feature. Similarly output variables are called y or target.\n",
    "\n",
    "    Let's try to model fuel consumption of a car. In this case kilometers will be our input(x) values and liters(y) will be our output values.\n",
    "\n",
    "| Kilometers   | Fuel(Liters)    |    \n",
    "| -------------| ----------|\n",
    "| 156          | 7.8       |\n",
    "| 300          | 12.7      |\n",
    "| 46           | 3.4       |\n",
    "\n",
    "-  **Number of Elements ($m$):** Number of training elements in our case $m = 3$.\n",
    "-  **$(x^{(i)}$, $y^{(i)})$:** $\\;$ $i_{th}$Training Example. For $i = 1$ we will get $(x^{(1)}$, $y^{(1)})$ $= (300, 12.7)$ assuming indexed as (0,1,2..).\n",
    "\n",
    "    We can store these values in a numpy array.\n"
   ]
  },
  {
   "cell_type": "code",
   "execution_count": 60,
   "id": "00345eba-a301-4ef3-803a-d89de42c0b81",
   "metadata": {},
   "outputs": [
    {
     "name": "stdout",
     "output_type": "stream",
     "text": [
      "Input values [156 300  46]\n",
      "Output values [ 7.8 12.7  3.4]\n",
      "Number of training examples is: 3\n",
      "(x^(0), y^(0)) = (156, 7.8)\n"
     ]
    }
   ],
   "source": [
    "import numpy as np\n",
    "\n",
    "i = 0\n",
    "\n",
    "x = np.array([156, 300, 46])\n",
    "y = np.array([7.8, 12.7, 3.4])\n",
    "\n",
    "m = len(x)\n",
    "\n",
    "x_i = x[i]\n",
    "y_i = y[i]\n",
    "\n",
    "print(f\"Input values {x}\")\n",
    "print(f\"Output values {y}\")\n",
    "\n",
    "# m value\n",
    "print(f\"Number of training examples is: {m}\")\n",
    "\n",
    "# i_th training element\n",
    "print(f\"(x^({i}), y^({i})) = ({x_i}, {y_i})\")"
   ]
  },
  {
   "cell_type": "markdown",
   "id": "4aa96a1b-b872-43d8-8054-b87863d2bb4b",
   "metadata": {},
   "source": [
    "2. **Learning Algorithm** <br>\n",
    "    To train the model, we will feed both input features and output targets into our learning algorithm. Then our learning algorithm will produce a **function.** This functions job is to take a new x input and output an estimation **(ŷ)** .\n",
    "\n",
    "<pre>                                                        x <span>&#8594;</span> f <span>&#8594;</span> ŷ                                      \n",
    "                                               kilometers <span>&#8594;</span> f <span>&#8594;</span> litres (estimated)                          </pre>\n",
    "- **Function** <br>\n",
    "    To keep it simple we will consider our function as a straight line. Now we can represent f as $f(x) = ax + b$ <br>\n",
    "    In our case, function has only one variable. And it is a lineer function. This type of regression is called **Univariate Lineer Regression.**\n",
    "\n",
    "    Let's use Matplotlib to see our model on a chart."
   ]
  },
  {
   "cell_type": "code",
   "execution_count": 61,
   "id": "2c0b9912-c6a5-443f-8bbc-792c4f3cb56f",
   "metadata": {},
   "outputs": [
    {
     "data": {
      "image/png": "[encoded data removed]",
      "text/plain": [
       "<Figure size 640x480 with 1 Axes>"
      ]
     },
     "metadata": {},
     "output_type": "display_data"
    }
   ],
   "source": [
    "import matplotlib.pyplot as plt\n",
    "\n",
    "# For now let's define a,b values ourselves.\n",
    "a = .036\n",
    "b = 2\n",
    "\n",
    "# Plot the data points\n",
    "plt.scatter(x, y, marker='o', c='r')\n",
    "# Set the title\n",
    "plt.title(\"Fuel Consumption\")\n",
    "# Set the y-axis label\n",
    "plt.ylabel('Fuel (Litres)')\n",
    "# Set the x-axis label\n",
    "plt.xlabel('Kilometers')\n",
    "\n",
    "# We need one point and the slope of the line to draw it on the chart.\n",
    "plt.axline((0, b), slope=a, linewidth=2, color='b')\n",
    "\n",
    "plt.show()\n"
   ]
  },
  {
   "cell_type": "markdown",
   "id": "e7ebbbb2-dcac-4389-9030-6e8d716e0796",
   "metadata": {},
   "source": [
    "Now that we have a model, we can use it to make a prediciton. Let's say we want to know how much fuel we use for hundred kilometers."
   ]
  },
  {
   "cell_type": "code",
   "execution_count": 63,
   "id": "d518890d-0067-4551-baf5-b1b4d84aff68",
   "metadata": {},
   "outputs": [
    {
     "name": "stdout",
     "output_type": "stream",
     "text": [
      "Fuel needed for 100 kilometers is 5.6 litres\n"
     ]
    }
   ],
   "source": [
    "kilometers = 100\n",
    "\n",
    "#We use our f function\n",
    "fuel_needed = a*kilometers + b\n",
    "\n",
    "print(f\"Fuel needed for {kilometers} kilometers is {fuel_needed} litres\")"
   ]
  }
 ],
 "metadata": {
  "kernelspec": {
   "display_name": "Python 3 (ipykernel)",
   "language": "python",
   "name": "python3"
  },
  "language_info": {
   "codemirror_mode": {
    "name": "ipython",
    "version": 3
   },
   "file_extension": ".py",
   "mimetype": "text/x-python",
   "name": "python",
   "nbconvert_exporter": "python",
   "pygments_lexer": "ipython3",
   "version": "3.10.4"
  }
 },
 "nbformat": 4,
 "nbformat_minor": 5
}
